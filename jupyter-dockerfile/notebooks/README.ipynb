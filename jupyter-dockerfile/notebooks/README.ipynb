{
 "cells": [
  {
   "cell_type": "markdown",
   "metadata": {},
   "source": [
    "# README"
   ]
  },
  {
   "cell_type": "markdown",
   "metadata": {},
   "source": [
    "Python2 and Python3 notebooks are available."
   ]
  },
  {
   "cell_type": "code",
   "execution_count": 1,
   "metadata": {
    "collapsed": false
   },
   "outputs": [
    {
     "data": {
      "application/json": {
       "Software versions": [
        {
         "module": "Python",
         "version": "3.5.3 64bit [GCC 6.3.0 20170118]"
        },
        {
         "module": "IPython",
         "version": "5.1.0"
        },
        {
         "module": "OS",
         "version": "Linux 4.9.0 2 amd64 x86_64 with debian 9.0"
        }
       ]
      },
      "text/html": [
       "<table><tr><th>Software</th><th>Version</th></tr><tr><td>Python</td><td>3.5.3 64bit [GCC 6.3.0 20170118]</td></tr><tr><td>IPython</td><td>5.1.0</td></tr><tr><td>OS</td><td>Linux 4.9.0 2 amd64 x86_64 with debian 9.0</td></tr><tr><td colspan='2'>Sun May 28 20:05:22 2017 UTC</td></tr></table>"
      ],
      "text/latex": [
       "\\begin{tabular}{|l|l|}\\hline\n",
       "{\\bf Software} & {\\bf Version} \\\\ \\hline\\hline\n",
       "Python & 3.5.3 64bit [GCC 6.3.0 20170118] \\\\ \\hline\n",
       "IPython & 5.1.0 \\\\ \\hline\n",
       "OS & Linux 4.9.0 2 amd64 x86\\_64 with debian 9.0 \\\\ \\hline\n",
       "\\hline \\multicolumn{2}{|l|}{Sun May 28 20:05:22 2017 UTC} \\\\ \\hline\n",
       "\\end{tabular}\n"
      ],
      "text/plain": [
       "Software versions\n",
       "Python 3.5.3 64bit [GCC 6.3.0 20170118]\n",
       "IPython 5.1.0\n",
       "OS Linux 4.9.0 2 amd64 x86_64 with debian 9.0\n",
       "Sun May 28 20:05:22 2017 UTC"
      ]
     },
     "execution_count": 1,
     "metadata": {},
     "output_type": "execute_result"
    }
   ],
   "source": [
    "%load_ext version_information\n",
    "%version_information"
   ]
  },
  {
   "cell_type": "markdown",
   "metadata": {},
   "source": [
    "Global variables (PGHOST, etc.) are predefined to access the MusicBrainz database; you can for example perform the following SQL query:"
   ]
  },
  {
   "cell_type": "code",
   "execution_count": 2,
   "metadata": {
    "collapsed": true
   },
   "outputs": [],
   "source": [
    "sql_beethoven = \"\"\"\n",
    "SELECT gid, name, begin_date_year, end_date_year \n",
    "  FROM artist \n",
    " WHERE name='Ludwig van Beethoven'\n",
    "\"\"\""
   ]
  },
  {
   "cell_type": "markdown",
   "metadata": {},
   "source": [
    "either using the psycopg2 library:"
   ]
  },
  {
   "cell_type": "code",
   "execution_count": 3,
   "metadata": {
    "collapsed": false
   },
   "outputs": [
    {
     "name": "stdout",
     "output_type": "stream",
     "text": [
      "('1f9df192-a621-4f54-8850-2c5373b7eac9', 'Ludwig van Beethoven', 1770, 1827)\n"
     ]
    }
   ],
   "source": [
    "import psycopg2\n",
    "with psycopg2.connect(host=PGHOST, database=PGDATABASE, \n",
    "                      user=PGUSER, password=PGPASSWORD) as cnx:\n",
    "    crs = cnx.cursor()\n",
    "    crs.execute(sql_beethoven)\n",
    "    for result in crs:\n",
    "        print(result)"
   ]
  },
  {
   "cell_type": "markdown",
   "metadata": {},
   "source": [
    "or PanDas and SQLalchemy:"
   ]
  },
  {
   "cell_type": "code",
   "execution_count": 4,
   "metadata": {
    "collapsed": false
   },
   "outputs": [
    {
     "data": {
      "text/html": [
       "<div>\n",
       "<table border=\"1\" class=\"dataframe\">\n",
       "  <thead>\n",
       "    <tr style=\"text-align: right;\">\n",
       "      <th></th>\n",
       "      <th>gid</th>\n",
       "      <th>name</th>\n",
       "      <th>begin_date_year</th>\n",
       "      <th>end_date_year</th>\n",
       "    </tr>\n",
       "  </thead>\n",
       "  <tbody>\n",
       "    <tr>\n",
       "      <th>0</th>\n",
       "      <td>1f9df192-a621-4f54-8850-2c5373b7eac9</td>\n",
       "      <td>Ludwig van Beethoven</td>\n",
       "      <td>1770</td>\n",
       "      <td>1827</td>\n",
       "    </tr>\n",
       "  </tbody>\n",
       "</table>\n",
       "</div>"
      ],
      "text/plain": [
       "                                    gid                  name  \\\n",
       "0  1f9df192-a621-4f54-8850-2c5373b7eac9  Ludwig van Beethoven   \n",
       "\n",
       "   begin_date_year  end_date_year  \n",
       "0             1770           1827  "
      ]
     },
     "execution_count": 4,
     "metadata": {},
     "output_type": "execute_result"
    }
   ],
   "source": [
    "import sqlalchemy\n",
    "import pandas\n",
    "engine = sqlalchemy.create_engine(\n",
    "   'postgresql+psycopg2://{PGUSER}:{PGPASSWORD}@{PGHOST}/{PGDATABASE}'.format(**locals()),\n",
    "    isolation_level='READ UNCOMMITTED'\n",
    ")\n",
    "pandas.read_sql(sql_beethoven, engine)"
   ]
  }
 ],
 "metadata": {
  "kernelspec": {
   "display_name": "Python 3",
   "language": "python",
   "name": "python3"
  },
  "language_info": {
   "codemirror_mode": {
    "name": "ipython",
    "version": 3
   },
   "file_extension": ".py",
   "mimetype": "text/x-python",
   "name": "python",
   "nbconvert_exporter": "python",
   "pygments_lexer": "ipython3",
   "version": "3.5.3"
  }
 },
 "nbformat": 4,
 "nbformat_minor": 2
}
